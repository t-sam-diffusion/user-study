{
 "cells": [
  {
   "cell_type": "code",
   "execution_count": 5,
   "metadata": {},
   "outputs": [],
   "source": [
    "import json \n",
    "\n",
    "with open('/Users/erfan/user-study/path_triples_conform_lb_ours.json', 'r') as f:\n",
    "    data = json.load(f)\n",
    "\n",
    "result = []\n",
    "for item in data:\n",
    "    result.append([item[0],item[2],item[3]])\n",
    "    # result.append([item[1],item[2],item[3]])\n",
    "    \n",
    "\n",
    "with open('./one-one-conform-ours-animal-object.json','w') as f:\n",
    "    json.dump(result,f,indent = 2)"
   ]
  },
  {
   "cell_type": "code",
   "execution_count": 9,
   "metadata": {},
   "outputs": [],
   "source": [
    "import json \n",
    "import random\n",
    "\n",
    "with open('/Users/erfan/user-study/one-one-sd-tagged.json', 'r') as f:\n",
    "    data = json.load(f)\n",
    "\n",
    "\n",
    "random.shuffle(data)\n",
    "\n",
    "with open('./one-one-sd-tagged.json','w') as f:\n",
    "    json.dump(data,f,indent = 2)"
   ]
  },
  {
   "cell_type": "code",
   "execution_count": 8,
   "metadata": {},
   "outputs": [],
   "source": [
    "import json \n",
    "import random\n",
    "import os\n",
    "result = []\n",
    "dir = '/Users/erfan/user-study/user_images/rebuttal'\n",
    "cats = ['animals_objects','objects']\n",
    "\n",
    "for cat in cats:\n",
    "    dir_cat = os.path.join(dir,cat,'conform')\n",
    "    \n",
    "    file_names = os.listdir(dir_cat)\n",
    "    for name in file_names:\n",
    "        result.append([f\"'user_images/rebuttal/{cat}/conform/{name}\",f\"user_images/rebuttal/{cat}/ours/{name}\",f'{name.split(\"_\")[0]}','conform'])\n",
    "        result.append([f\"'user_images/rebuttal/{cat}/LB/{name}\",f\"user_images/rebuttal/{cat}/ours/{name}\",f'{name.split(\"_\")[0]}','LB'])\n",
    "\n",
    "with open('./one-one-sd-tagged.json','w') as f:\n",
    "    json.dump(result,f,indent = 2)\n"
   ]
  },
  {
   "cell_type": "code",
   "execution_count": 13,
   "metadata": {},
   "outputs": [],
   "source": [
    "import os\n",
    "paths = '/Users/erfan/user-study/user_images/rebuttal/objects/LB'\n",
    "file_names = os.listdir(paths)\n",
    "for name in file_names:\n",
    "    old_path = os.path.join(paths,name)\n",
    "    new_name = f'{name.split(\"_\")[0]}_seed_{name.split(\"_\")[1]}'\n",
    "    new_path = os.path.join(paths,new_name)\n",
    "    os.rename(old_path, new_path)"
   ]
  },
  {
   "cell_type": "code",
   "execution_count": 14,
   "metadata": {},
   "outputs": [],
   "source": [
    "import os\n",
    "paths = '/Users/erfan/user-study/user_images/rebuttal/objects/LB'\n",
    "file_names = os.listdir(paths)\n",
    "for name in file_names:\n",
    "    old_path = os.path.join(paths,name)\n",
    "    new_name = f'{name.split(\".\")[0]}.jpg'\n",
    "    new_path = os.path.join(paths,new_name)\n",
    "    os.rename(old_path, new_path)"
   ]
  }
 ],
 "metadata": {
  "kernelspec": {
   "display_name": "Python 3",
   "language": "python",
   "name": "python3"
  },
  "language_info": {
   "codemirror_mode": {
    "name": "ipython",
    "version": 3
   },
   "file_extension": ".py",
   "mimetype": "text/x-python",
   "name": "python",
   "nbconvert_exporter": "python",
   "pygments_lexer": "ipython3",
   "version": "3.10.9"
  }
 },
 "nbformat": 4,
 "nbformat_minor": 2
}
